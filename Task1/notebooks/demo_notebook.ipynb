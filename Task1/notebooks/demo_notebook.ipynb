{
 "cells": [
  {
   "cell_type": "markdown",
   "metadata": {},
   "source": [
    "# MNIST — Demo Notebook\n",
    "\n",
    "### Overview\n",
    "This notebook provides demonstration of the MNIST classification pipeline.\n",
    "It illustrates how the models are trained, evaluated, and tested under various edge conditions.\n",
    "\n",
    "### What’s included\n",
    "-  **Quick runs** for `Random Forest`, `FNN`, and `CNN` (2 epochs by default for speed)\n",
    "-  **Evaluation metrics:** accuracy, classification report, and confusion matrix\n",
    "-  **Prediction examples:** correct and misclassified digits\n",
    "-  **Edge-case tests:** input shape errors, dtype mismatches, NaN handling, out-of-range labels, and class imbalance\n",
    "\n",
    ">  **Note:**\n",
    "> This notebook is meant for demonstration and documentation.\n",
    "> Keep training short here — full training sessions should be executed via `main.py`.\n"
   ],
   "id": "1040ecc767121c74"
  },
  {
   "cell_type": "code",
   "metadata": {
    "ExecuteTime": {
     "end_time": "2025-10-05T12:39:59.409531Z",
     "start_time": "2025-10-05T12:39:58.342736Z"
    }
   },
   "source": [
    "import sys, os, random\n",
    "import numpy as np\n",
    "import torch\n",
    "import matplotlib.pyplot as plt\n",
    "from sklearn.metrics import accuracy_score, classification_report, confusion_matrix, ConfusionMatrixDisplay\n",
    "\n",
    "def seed_everything(seed: int = 42):\n",
    "    os.environ['PYTHONHASHSEED'] = str(seed)\n",
    "    random.seed(seed)\n",
    "    np.random.seed(seed)\n",
    "    torch.manual_seed(seed)\n",
    "    torch.cuda.manual_seed_all(seed)\n",
    "    torch.backends.cudnn.deterministic = True\n",
    "    torch.backends.cudnn.benchmark = False\n",
    "\n",
    "seed_everything(42)\n",
    "DEVICE = torch.device('cuda' if torch.cuda.is_available() else 'cpu')\n",
    "print({'python': sys.version.split()[0], 'torch': torch.__version__, 'cuda_available': torch.cuda.is_available(), 'device': str(DEVICE)})"
   ],
   "id": "6de7e48bcbaa55e6",
   "outputs": [
    {
     "name": "stdout",
     "output_type": "stream",
     "text": [
      "{'python': '3.13.5', 'torch': '2.8.0+cpu', 'cuda_available': False, 'device': 'cpu'}\n"
     ]
    }
   ],
   "execution_count": 2
  },
  {
   "cell_type": "markdown",
   "metadata": {},
   "source": [
    "## 2. Import your module\n",
    "\n",
    "Import the local **`mnist`** package so this demo runs on your own implementation.\n",
    "Since the notebook is inside `notebooks/`, i have added the project root to `sys.path`\n",
    "to make the package importable."
   ],
   "id": "6a9813742810ded3"
  },
  {
   "metadata": {
    "ExecuteTime": {
     "end_time": "2025-10-05T12:39:59.444580Z",
     "start_time": "2025-10-05T12:39:59.438679Z"
    }
   },
   "cell_type": "code",
   "source": [
    "import sys\n",
    "import pathlib\n",
    "\n",
    "PROJECT_ROOT = pathlib.Path.cwd().parent\n",
    "if str(PROJECT_ROOT) not in sys.path:\n",
    "    sys.path.append(str(PROJECT_ROOT))\n",
    "\n",
    "print(\"Available submodules:\", [n for n in dir(models) if not n.startswith(\"_\")])\n",
    "print(\"Successfully imported MNIST package\")\n"
   ],
   "id": "2b534f4b1840e7f8",
   "outputs": [
    {
     "name": "stdout",
     "output_type": "stream",
     "text": [
      "Available submodules: ['MnistClassifier', 'data', 'facade', 'interface', 'models']\n",
      "Successfully imported MNIST package\n"
     ]
    }
   ],
   "execution_count": 3
  },
  {
   "cell_type": "markdown",
   "metadata": {},
   "source": [
    "## 3. Data Load\n",
    "\n",
    "I have used the custom function `load_mnist_numpy()` from the `mnist.data` module.\n",
    "It returns the MNIST dataset already split into **training**, **validation**, and **test** sets —\n",
    "each as NumPy arrays.\n",
    "\n",
    "The function loads images as `(N, 28, 28)` arrays and labels as `(N,)`,\n",
    "so they’re ready for both classical models (like Random Forest) and neural networks.\n",
    "\n",
    "Below data is loading and printing the result shapes to verify everything is correct.\n"
   ],
   "id": "35b946420ec91753"
  },
  {
   "cell_type": "code",
   "metadata": {
    "ExecuteTime": {
     "end_time": "2025-10-05T12:40:04.979364Z",
     "start_time": "2025-10-05T12:39:59.678923Z"
    }
   },
   "source": [
    "\n",
    "from Task1.mnist import data\n",
    "\n",
    "X_train, y_train, X_val, y_val, X_test, y_test = data.load_mnist_numpy()\n",
    "X_train.shape, X_val.shape, X_test.shape, y_train.shape, y_val.shape, y_test.shape\n"
   ],
   "id": "94f4b7e554f4ebf0",
   "outputs": [
    {
     "name": "stderr",
     "output_type": "stream",
     "text": [
      "100.0%\n",
      "100.0%\n",
      "100.0%\n",
      "100.0%\n"
     ]
    },
    {
     "data": {
      "text/plain": [
       "((54000, 28, 28), (6000, 28, 28), (10000, 28, 28), (54000,), (6000,), (10000,))"
      ]
     },
     "execution_count": 4,
     "metadata": {},
     "output_type": "execute_result"
    }
   ],
   "execution_count": 4
  },
  {
   "cell_type": "code",
   "metadata": {
    "ExecuteTime": {
     "end_time": "2025-10-05T12:40:05.258017Z",
     "start_time": "2025-10-05T12:40:05.002962Z"
    }
   },
   "source": [
    "fig, axes = plt.subplots(1, 6, figsize=(10,2))\n",
    "for i in range(6):\n",
    "    axes[i].imshow(X_train[i], cmap='gray')\n",
    "    axes[i].set_title(int(y_train[i]))\n",
    "    axes[i].axis('off')\n",
    "plt.show()"
   ],
   "id": "cf83b8737967fbeb",
   "outputs": [
    {
     "data": {
      "text/plain": [
       "<Figure size 1000x200 with 6 Axes>"
      ],
      "image/png": "[encoded data removed]"
     },
     "metadata": {},
     "output_type": "display_data"
    }
   ],
   "execution_count": 5
  },
  {
   "cell_type": "markdown",
   "metadata": {},
   "source": [
    "## 4. Baseline — Random Forest (flattened pixels)\n",
    "\n",
    "Let's start with a **Random Forest** as a simple non-neural baseline.\n",
    "This model operates on flattened pixel vectors — each image of shape `(28, 28)`\n",
    "is reshaped into a 1D vector of length `784`.\n",
    "\n",
    "Using the unified interface `MnistClassifier(\"rf\")`,\n",
    "i have trained the model, maked predictions on the test set, and evaluated its accuracy.\n"
   ],
   "id": "7d42b50bb108ce26"
  },
  {
   "cell_type": "code",
   "metadata": {
    "ExecuteTime": {
     "end_time": "2025-10-05T12:40:27.157132Z",
     "start_time": "2025-10-05T12:40:05.280492Z"
    }
   },
   "source": [
    "rf = models.MnistClassifier('rf')\n",
    "rf.train(X_train, y_train, X_val, y_val)\n",
    "y_pred_rf = rf.predict(X_test)\n",
    "acc_rf = accuracy_score(y_test, y_pred_rf)\n",
    "print('RF test accuracy:', acc_rf)\n",
    "print(classification_report(y_test, y_pred_rf))"
   ],
   "id": "3d84155214fa6cb9",
   "outputs": [
    {
     "name": "stdout",
     "output_type": "stream",
     "text": [
      "RF test accuracy: 0.9691\n",
      "              precision    recall  f1-score   support\n",
      "\n",
      "           0       0.97      0.99      0.98       980\n",
      "           1       0.99      0.99      0.99      1135\n",
      "           2       0.96      0.97      0.96      1032\n",
      "           3       0.96      0.96      0.96      1010\n",
      "           4       0.98      0.97      0.97       982\n",
      "           5       0.98      0.96      0.97       892\n",
      "           6       0.97      0.98      0.98       958\n",
      "           7       0.97      0.96      0.97      1028\n",
      "           8       0.96      0.96      0.96       974\n",
      "           9       0.95      0.95      0.95      1009\n",
      "\n",
      "    accuracy                           0.97     10000\n",
      "   macro avg       0.97      0.97      0.97     10000\n",
      "weighted avg       0.97      0.97      0.97     10000\n",
      "\n"
     ]
    }
   ],
   "execution_count": 6
  },
  {
   "cell_type": "markdown",
   "metadata": {},
   "source": [
    "## 5. FNN — short demo (2 epochs)\n",
    "\n",
    "The **Feed-Forward Neural Network (FNN)** is a simple fully connected model\n",
    "where data flows only in one direction — from input to output.\n",
    "It’s implemented as a small **multi-layer perceptron (MLP)** with linear layers, activations, and a softmax output.\n",
    "\n"
   ],
   "id": "856ace024f54b91"
  },
  {
   "cell_type": "code",
   "metadata": {
    "ExecuteTime": {
     "end_time": "2025-10-05T12:40:31.504716Z",
     "start_time": "2025-10-05T12:40:27.192964Z"
    }
   },
   "source": [
    "fnn = models.MnistClassifier('nn', epochs=2, batch_size=128, lr=1e-3, print_val=True)\n",
    "\n",
    "fnn.train(X_train, y_train, X_val, y_val)\n",
    "y_pred_fnn = fnn.predict(X_test)\n",
    "\n",
    "acc_fnn = accuracy_score(y_test, y_pred_fnn)\n",
    "print('FNN test accuracy:', acc_fnn)\n",
    "print(classification_report(y_test, y_pred_fnn))\n"
   ],
   "id": "e57af10f1b85d8d9",
   "outputs": [
    {
     "name": "stdout",
     "output_type": "stream",
     "text": [
      "[MLP] epoch 01 | train_loss=0.3888 | val_acc=0.9432\n",
      "[MLP] epoch 02 | train_loss=0.1557 | val_acc=0.9602\n",
      "FNN test accuracy: 0.9623\n",
      "              precision    recall  f1-score   support\n",
      "\n",
      "           0       0.96      0.99      0.97       980\n",
      "           1       0.98      0.98      0.98      1135\n",
      "           2       0.97      0.96      0.96      1032\n",
      "           3       0.97      0.94      0.96      1010\n",
      "           4       0.97      0.95      0.96       982\n",
      "           5       0.97      0.95      0.96       892\n",
      "           6       0.95      0.98      0.96       958\n",
      "           7       0.98      0.96      0.97      1028\n",
      "           8       0.91      0.97      0.94       974\n",
      "           9       0.97      0.94      0.95      1009\n",
      "\n",
      "    accuracy                           0.96     10000\n",
      "   macro avg       0.96      0.96      0.96     10000\n",
      "weighted avg       0.96      0.96      0.96     10000\n",
      "\n"
     ]
    }
   ],
   "execution_count": 7
  },
  {
   "cell_type": "markdown",
   "metadata": {},
   "source": [
    "## 6. CNN — short demo (2 epochs)\n",
    "\n",
    "The **Convolutional Neural Network (CNN)** is designed to capture local spatial patterns\n",
    "by applying convolutional filters over the image.\n",
    "Unlike FNNs, it preserves the 2D structure of the input, making it much better suited for image data.\n",
    "\n"
   ],
   "id": "cb881b93bc0321ee"
  },
  {
   "cell_type": "code",
   "metadata": {
    "ExecuteTime": {
     "end_time": "2025-10-05T12:41:17.272864Z",
     "start_time": "2025-10-05T12:40:31.528595Z"
    }
   },
   "source": [
    "cnn = models.MnistClassifier('cnn', epochs=2, batch_size=128, lr=1e-3, print_val=True)\n",
    "cnn.train(X_train, y_train, X_val, y_val)\n",
    "y_pred_cnn = cnn.predict(X_test)\n",
    "acc_cnn = accuracy_score(y_test, y_pred_cnn)\n",
    "print('CNN test accuracy:', acc_cnn)\n",
    "print(classification_report(y_test, y_pred_cnn))"
   ],
   "id": "ac94183a873f721d",
   "outputs": [
    {
     "name": "stdout",
     "output_type": "stream",
     "text": [
      "[CNN] epoch 01 | train_loss=0.2609 | val_acc=0.9715\n",
      "[CNN] epoch 02 | train_loss=0.0629 | val_acc=0.9817\n",
      "CNN test accuracy: 0.9841\n",
      "              precision    recall  f1-score   support\n",
      "\n",
      "           0       0.97      1.00      0.99       980\n",
      "           1       0.99      1.00      0.99      1135\n",
      "           2       0.98      0.99      0.98      1032\n",
      "           3       0.99      0.99      0.99      1010\n",
      "           4       0.97      1.00      0.98       982\n",
      "           5       0.98      0.99      0.98       892\n",
      "           6       1.00      0.97      0.98       958\n",
      "           7       0.99      0.98      0.98      1028\n",
      "           8       0.99      0.97      0.98       974\n",
      "           9       0.99      0.96      0.98      1009\n",
      "\n",
      "    accuracy                           0.98     10000\n",
      "   macro avg       0.98      0.98      0.98     10000\n",
      "weighted avg       0.98      0.98      0.98     10000\n",
      "\n"
     ]
    }
   ],
   "execution_count": 8
  },
  {
   "cell_type": "markdown",
   "metadata": {},
   "source": [
    "## 7. Confusion Matrix (CNN)\n",
    "\n",
    "To better visualize model performance, i have ploted the **confusion matrix** for the CNN predictions.\n",
    "It shows how often each digit is correctly classified versus confused with another."
   ],
   "id": "6345d991e98f9292"
  },
  {
   "cell_type": "code",
   "metadata": {
    "ExecuteTime": {
     "end_time": "2025-10-05T12:41:17.556399Z",
     "start_time": "2025-10-05T12:41:17.301329Z"
    }
   },
   "source": [
    "cm = confusion_matrix(y_test, y_pred_cnn)\n",
    "disp = ConfusionMatrixDisplay(cm)\n",
    "disp.plot(values_format='d')\n",
    "plt.title('Confusion Matrix — CNN (2 epochs)')\n",
    "plt.show()"
   ],
   "id": "2e06d85464b7ac9d",
   "outputs": [
    {
     "data": {
      "text/plain": [
       "<Figure size 640x480 with 2 Axes>"
      ],
      "image/png": "[encoded data removed]"
     },
     "metadata": {},
     "output_type": "display_data"
    }
   ],
   "execution_count": 9
  },
  {
   "cell_type": "markdown",
   "metadata": {},
   "source": [
    "## 8. Inference examples\n",
    "Let's see few predictions (including mistakes if any)."
   ],
   "id": "337ddb7a05de58d3"
  },
  {
   "cell_type": "code",
   "metadata": {
    "ExecuteTime": {
     "end_time": "2025-10-05T12:41:17.903146Z",
     "start_time": "2025-10-05T12:41:17.580756Z"
    }
   },
   "source": [
    "idx = np.random.choice(len(X_test), size=8, replace=False)\n",
    "imgs = X_test[idx]\n",
    "y_true = y_test[idx]\n",
    "preds = y_pred_cnn[idx]\n",
    "\n",
    "fig, axes = plt.subplots(2, 4, figsize=(9,5))\n",
    "axes = axes.ravel()\n",
    "for i, ax in enumerate(axes):\n",
    "    ax.imshow(imgs[i], cmap='gray')\n",
    "    ax.set_title(f\"true={int(y_true[i])} pred={int(preds[i])}\")\n",
    "    ax.axis('off')\n",
    "plt.tight_layout()\n",
    "plt.show()"
   ],
   "id": "64390635e4462884",
   "outputs": [
    {
     "data": {
      "text/plain": [
       "<Figure size 900x500 with 8 Axes>"
      ],
      "image/png": "[encoded data removed]"
     },
     "metadata": {},
     "output_type": "display_data"
    }
   ],
   "execution_count": 10
  },
  {
   "cell_type": "markdown",
   "metadata": {},
   "source": [
    "## 9. Edge cases\n",
    "Demonstrating how the current implementation behaves under common pitfalls.\n",
    "\n",
    "Covered:\n",
    "- **Shape handling**: high-level API adds channel dim automatically for NN/CNN\n",
    "- **Dtype coercion**: float64 → float32\n",
    "- **NaNs in inputs**: forward works but produces NaNs; training quality degrades\n",
    "- **Out-of-range labels**: loss throws a clear error\n",
    "- **Imbalanced mini-subset**: accuracy is misleading → look at macro-F1"
   ],
   "id": "3573b69efe69d707"
  },
  {
   "cell_type": "code",
   "metadata": {
    "ExecuteTime": {
     "end_time": "2025-10-05T12:54:00.387941Z",
     "start_time": "2025-10-05T12:54:00.318815Z"
    }
   },
   "source": [
    "from __future__ import annotations\n",
    "\n",
    "import numpy as np\n",
    "import torch\n",
    "from sklearn.metrics import classification_report, accuracy_score, f1_score\n",
    "\n",
    "from Task1.mnist.models import SimpleCNN\n",
    "from Task1.mnist.models import add_channel_dim\n",
    "\n",
    "print(\"— Edge cases —\")\n",
    "\n",
    "X_small = X_test[:4]\n",
    "preds_ok = cnn.predict(X_small)\n",
    "print(\"[Shape handling] high-level predict OK →\", preds_ok)\n",
    "\n",
    "raw = SimpleCNN().to(DEVICE)\n",
    "try:\n",
    "    _ = raw(torch.as_tensor(X_small, device=DEVICE))\n",
    "    print(\"[Shape handling] raw forward UNEXPECTEDLY worked on wrong shape\")\n",
    "except Exception as e:\n",
    "    print(\"[Shape handling] raw forward error (expected):\", type(e).__name__, str(e)[:140])\n",
    "\n",
    "X64 = X_small.astype(np.float64)\n",
    "preds_64 = cnn.predict(X64)\n",
    "print(\"[Dtype coercion] predict on float64 inputs OK →\", preds_64)\n",
    "\n",
    "Xnan = X_small.copy()\n",
    "Xnan[0, 0, 0] = np.nan\n",
    "try:\n",
    "    if np.isnan(Xnan).any():\n",
    "        raise ValueError(\"NaNs detected in inputs\")\n",
    "    preds_nan = cnn.predict(Xnan)\n",
    "    print(\"[NaNs] predict succeeded (lenient pipeline) →\", preds_nan)\n",
    "except Exception as e:\n",
    "    print(\"[NaNs] error (expected for strict pipelines):\", type(e).__name__, str(e)[:140])\n",
    "\n",
    "xb = torch.as_tensor(add_channel_dim(X_small), dtype=torch.float32, device=DEVICE)\n",
    "logits = SimpleCNN().to(DEVICE)(xb)\n",
    "bad_y = torch.tensor([0, 1, 2, 99], device=DEVICE)\n",
    "loss_fn = torch.nn.CrossEntropyLoss()\n",
    "try:\n",
    "    _ = loss_fn(logits, bad_y)\n",
    "    print(\"[Out-of-range labels] UNEXPECTEDLY no error\")\n",
    "except Exception as e:\n",
    "    print(\"[Out-of-range labels] error (expected):\", type(e).__name__, str(e)[:140])\n",
    "\n",
    "mask_major = (y_test == 1)\n",
    "mask_minor = (y_test == 7)\n",
    "\n",
    "X_major, y_major = X_test[mask_major][:180], y_test[mask_major][:180]\n",
    "X_minor, y_minor = X_test[mask_minor][:20],  y_test[mask_minor][:20]\n",
    "\n",
    "X_imb = np.concatenate([X_major, X_minor], axis=0)\n",
    "y_imb = np.concatenate([y_major, y_minor], axis=0)\n",
    "\n",
    "preds_imb = cnn.predict(X_imb)\n",
    "acc_imb = accuracy_score(y_imb, preds_imb)\n",
    "macro_f1_imb = f1_score(y_imb, preds_imb, average=\"macro\")\n",
    "\n",
    "print(f\"[Imbalanced subset] size={len(y_imb)} (major=1 x{len(y_major)}, minor=7 x{len(y_minor)})\"\n",
    "      f\" | accuracy={acc_imb:.3f} | macro-F1={macro_f1_imb:.3f}\")\n",
    "print(classification_report(y_imb, preds_imb, digits=3))\n"
   ],
   "id": "6a404dc9d630ca30",
   "outputs": [
    {
     "name": "stdout",
     "output_type": "stream",
     "text": [
      "— Edge cases —\n",
      "[Shape handling] high-level predict OK → [7 2 1 0]\n",
      "[Shape handling] raw forward error (expected): RuntimeError Given groups=1, weight of size [32, 1, 3, 3], expected input[1, 4, 28, 28] to have 1 channels, but got 4 channels instead\n",
      "[Dtype coercion] predict on float64 inputs OK → [7 2 1 0]\n",
      "[NaNs] error (expected for strict pipelines): ValueError NaNs detected in inputs\n",
      "[Out-of-range labels] error (expected): IndexError Target 99 is out of bounds.\n",
      "[Imbalanced subset] size=200 (major=1 x180, minor=7 x20) | accuracy=1.000 | macro-F1=1.000\n",
      "              precision    recall  f1-score   support\n",
      "\n",
      "           1      1.000     1.000     1.000       180\n",
      "           7      1.000     1.000     1.000        20\n",
      "\n",
      "    accuracy                          1.000       200\n",
      "   macro avg      1.000     1.000     1.000       200\n",
      "weighted avg      1.000     1.000     1.000       200\n",
      "\n"
     ]
    }
   ],
   "execution_count": 12
  },
  {
   "cell_type": "markdown",
   "metadata": {},
   "source": [
    "## 10. FAQ / How to run locally\n",
    "- Install deps: `pip install torch torchvision scikit-learn matplotlib`\n",
    "- Start Jupyter: `jupyter lab` (or Notebook)\n",
    "- This demo uses **short training** (2 epochs) to run fast; full runs belong in scripts.\n",
    "- Data: `torchvision.datasets.MNIST` auto-downloads on first run (internet needed once)."
   ],
   "id": "341de6f6e89e5d5b"
  }
 ],
 "metadata": {
  "kernelspec": {
   "display_name": "Python 3",
   "language": "python",
   "name": "python3"
  },
  "language_info": {
   "name": "python",
   "version": "3.11.8",
   "mimetype": "text/x-python",
   "codemirror_mode": {
    "name": "ipython",
    "version": 3
   },
   "pygments_lexer": "ipython3",
   "nbconvert_exporter": "python",
   "file_extension": ".py"
  }
 },
 "nbformat": 4,
 "nbformat_minor": 5
}
